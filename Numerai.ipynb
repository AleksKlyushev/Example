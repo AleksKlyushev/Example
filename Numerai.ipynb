{
 "cells": [
  {
   "cell_type": "code",
   "execution_count": 17,
   "metadata": {
    "collapsed": true
   },
   "outputs": [],
   "source": [
    "import pandas as pd\n",
    "from sklearn.cross_validation import train_test_split\n",
    "from sklearn.metrics import log_loss"
   ]
  },
  {
   "cell_type": "code",
   "execution_count": 4,
   "metadata": {
    "collapsed": false
   },
   "outputs": [
    {
     "data": {
      "text/html": [
       "<div>\n",
       "<table border=\"1\" class=\"dataframe\">\n",
       "  <thead>\n",
       "    <tr style=\"text-align: right;\">\n",
       "      <th></th>\n",
       "      <th>feature1</th>\n",
       "      <th>feature2</th>\n",
       "      <th>feature3</th>\n",
       "      <th>feature4</th>\n",
       "      <th>feature5</th>\n",
       "      <th>feature6</th>\n",
       "      <th>feature7</th>\n",
       "      <th>feature8</th>\n",
       "      <th>feature9</th>\n",
       "      <th>feature10</th>\n",
       "      <th>...</th>\n",
       "      <th>feature13</th>\n",
       "      <th>feature14</th>\n",
       "      <th>feature15</th>\n",
       "      <th>feature16</th>\n",
       "      <th>feature17</th>\n",
       "      <th>feature18</th>\n",
       "      <th>feature19</th>\n",
       "      <th>feature20</th>\n",
       "      <th>feature21</th>\n",
       "      <th>target</th>\n",
       "    </tr>\n",
       "  </thead>\n",
       "  <tbody>\n",
       "    <tr>\n",
       "      <th>0</th>\n",
       "      <td>0.943745</td>\n",
       "      <td>0.401440</td>\n",
       "      <td>0.052459</td>\n",
       "      <td>0.251756</td>\n",
       "      <td>0.599198</td>\n",
       "      <td>0.433079</td>\n",
       "      <td>0.154292</td>\n",
       "      <td>0.921624</td>\n",
       "      <td>0.089638</td>\n",
       "      <td>0.117733</td>\n",
       "      <td>...</td>\n",
       "      <td>0.823646</td>\n",
       "      <td>0.196164</td>\n",
       "      <td>0.712755</td>\n",
       "      <td>0.867630</td>\n",
       "      <td>0.409075</td>\n",
       "      <td>0.307076</td>\n",
       "      <td>0.949682</td>\n",
       "      <td>0.607616</td>\n",
       "      <td>0.417547</td>\n",
       "      <td>1</td>\n",
       "    </tr>\n",
       "    <tr>\n",
       "      <th>1</th>\n",
       "      <td>0.929175</td>\n",
       "      <td>0.863270</td>\n",
       "      <td>0.905306</td>\n",
       "      <td>0.698717</td>\n",
       "      <td>0.416503</td>\n",
       "      <td>0.770084</td>\n",
       "      <td>0.626188</td>\n",
       "      <td>0.738225</td>\n",
       "      <td>0.568635</td>\n",
       "      <td>0.675989</td>\n",
       "      <td>...</td>\n",
       "      <td>0.810103</td>\n",
       "      <td>0.784314</td>\n",
       "      <td>0.614979</td>\n",
       "      <td>0.598660</td>\n",
       "      <td>0.314625</td>\n",
       "      <td>0.977315</td>\n",
       "      <td>0.711697</td>\n",
       "      <td>0.304693</td>\n",
       "      <td>0.768250</td>\n",
       "      <td>0</td>\n",
       "    </tr>\n",
       "    <tr>\n",
       "      <th>2</th>\n",
       "      <td>0.437633</td>\n",
       "      <td>0.089709</td>\n",
       "      <td>0.010462</td>\n",
       "      <td>0.008531</td>\n",
       "      <td>0.201153</td>\n",
       "      <td>0.211479</td>\n",
       "      <td>0.049523</td>\n",
       "      <td>0.566263</td>\n",
       "      <td>0.027220</td>\n",
       "      <td>0.123500</td>\n",
       "      <td>...</td>\n",
       "      <td>0.874141</td>\n",
       "      <td>0.172692</td>\n",
       "      <td>0.838845</td>\n",
       "      <td>0.735884</td>\n",
       "      <td>0.303432</td>\n",
       "      <td>0.078281</td>\n",
       "      <td>0.947763</td>\n",
       "      <td>0.521588</td>\n",
       "      <td>0.136239</td>\n",
       "      <td>0</td>\n",
       "    </tr>\n",
       "  </tbody>\n",
       "</table>\n",
       "<p>3 rows × 22 columns</p>\n",
       "</div>"
      ],
      "text/plain": [
       "   feature1  feature2  feature3  feature4  feature5  feature6  feature7  \\\n",
       "0  0.943745  0.401440  0.052459  0.251756  0.599198  0.433079  0.154292   \n",
       "1  0.929175  0.863270  0.905306  0.698717  0.416503  0.770084  0.626188   \n",
       "2  0.437633  0.089709  0.010462  0.008531  0.201153  0.211479  0.049523   \n",
       "\n",
       "   feature8  feature9  feature10   ...    feature13  feature14  feature15  \\\n",
       "0  0.921624  0.089638   0.117733   ...     0.823646   0.196164   0.712755   \n",
       "1  0.738225  0.568635   0.675989   ...     0.810103   0.784314   0.614979   \n",
       "2  0.566263  0.027220   0.123500   ...     0.874141   0.172692   0.838845   \n",
       "\n",
       "   feature16  feature17  feature18  feature19  feature20  feature21  target  \n",
       "0   0.867630   0.409075   0.307076   0.949682   0.607616   0.417547       1  \n",
       "1   0.598660   0.314625   0.977315   0.711697   0.304693   0.768250       0  \n",
       "2   0.735884   0.303432   0.078281   0.947763   0.521588   0.136239       0  \n",
       "\n",
       "[3 rows x 22 columns]"
      ]
     },
     "execution_count": 4,
     "metadata": {},
     "output_type": "execute_result"
    }
   ],
   "source": [
    "df = pd.read_csv('C:\\\\Users\\\\123\\\\Downloads\\\\numerai_training_data.csv')\n",
    "df[:3]"
   ]
  },
  {
   "cell_type": "code",
   "execution_count": 5,
   "metadata": {
    "collapsed": false
   },
   "outputs": [
    {
     "data": {
      "text/plain": [
       "(96320, 22)"
      ]
     },
     "execution_count": 5,
     "metadata": {},
     "output_type": "execute_result"
    }
   ],
   "source": [
    "df.shape"
   ]
  },
  {
   "cell_type": "code",
   "execution_count": 16,
   "metadata": {
    "collapsed": false
   },
   "outputs": [],
   "source": [
    "x = df.ix[:,:-1]\n",
    "y = df.ix[:,-1]\n",
    "x_train, x_test, y_train, y_test = train_test_split(x, y, test_size=0.33, random_state=42)"
   ]
  },
  {
   "cell_type": "code",
   "execution_count": null,
   "metadata": {
    "collapsed": false
   },
   "outputs": [],
   "source": [
    "from sklearn.ensemble import RandomForestClassifier\n",
    "from sklearn.linear_model import LogisticRegression\n",
    "\n",
    "clf = RandomForestClassifier(n_estimators=450,max_depth=9,min_samples_split=12)\n",
    "# clf = LogisticRegression()\n",
    "clf_mod = clf.fit(x_train,y_train)\n",
    "y_pred = clf.predict(x_test)\n",
    "lg = log_loss(y_test,y_pred)\n",
    "print(\"Logloss: %0.4f\" % (lg))"
   ]
  }
 ],
 "metadata": {
  "kernelspec": {
   "display_name": "Python 3",
   "language": "python",
   "name": "python3"
  },
  "language_info": {
   "codemirror_mode": {
    "name": "ipython",
    "version": 3
   },
   "file_extension": ".py",
   "mimetype": "text/x-python",
   "name": "python",
   "nbconvert_exporter": "python",
   "pygments_lexer": "ipython3",
   "version": "3.5.1"
  }
 },
 "nbformat": 4,
 "nbformat_minor": 0
}

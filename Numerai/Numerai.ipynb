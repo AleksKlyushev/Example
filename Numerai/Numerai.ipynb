{
 "cells": [
  {
   "cell_type": "code",
   "execution_count": 2,
   "metadata": {
    "collapsed": true
   },
   "outputs": [],
   "source": [
    "import pandas as pd\n",
    "from sklearn.cross_validation import train_test_split\n",
    "from sklearn.metrics import log_loss\n",
    "#plot graf in the same window :\n",
    "%matplotlib inline \n"
   ]
  },
  {
   "cell_type": "code",
   "execution_count": 3,
   "metadata": {
    "collapsed": false
   },
   "outputs": [
    {
     "data": {
      "text/html": [
       "<div>\n",
       "<table border=\"1\" class=\"dataframe\">\n",
       "  <thead>\n",
       "    <tr style=\"text-align: right;\">\n",
       "      <th></th>\n",
       "      <th>feature1</th>\n",
       "      <th>feature2</th>\n",
       "      <th>feature3</th>\n",
       "      <th>feature4</th>\n",
       "      <th>feature5</th>\n",
       "      <th>feature6</th>\n",
       "      <th>feature7</th>\n",
       "      <th>feature8</th>\n",
       "      <th>feature9</th>\n",
       "      <th>feature10</th>\n",
       "      <th>...</th>\n",
       "      <th>feature13</th>\n",
       "      <th>feature14</th>\n",
       "      <th>feature15</th>\n",
       "      <th>feature16</th>\n",
       "      <th>feature17</th>\n",
       "      <th>feature18</th>\n",
       "      <th>feature19</th>\n",
       "      <th>feature20</th>\n",
       "      <th>feature21</th>\n",
       "      <th>target</th>\n",
       "    </tr>\n",
       "  </thead>\n",
       "  <tbody>\n",
       "    <tr>\n",
       "      <th>0</th>\n",
       "      <td>0.868641</td>\n",
       "      <td>0.506737</td>\n",
       "      <td>0.612936</td>\n",
       "      <td>0.938595</td>\n",
       "      <td>0.497599</td>\n",
       "      <td>0.666397</td>\n",
       "      <td>0.391871</td>\n",
       "      <td>0.727679</td>\n",
       "      <td>0.150861</td>\n",
       "      <td>0.772584</td>\n",
       "      <td>...</td>\n",
       "      <td>0.214899</td>\n",
       "      <td>0.629554</td>\n",
       "      <td>0.242945</td>\n",
       "      <td>0.073367</td>\n",
       "      <td>0.275067</td>\n",
       "      <td>0.445347</td>\n",
       "      <td>0.508649</td>\n",
       "      <td>0.230881</td>\n",
       "      <td>0.594809</td>\n",
       "      <td>1</td>\n",
       "    </tr>\n",
       "    <tr>\n",
       "      <th>1</th>\n",
       "      <td>0.187007</td>\n",
       "      <td>0.830566</td>\n",
       "      <td>0.507771</td>\n",
       "      <td>0.346876</td>\n",
       "      <td>0.413323</td>\n",
       "      <td>0.470311</td>\n",
       "      <td>0.948288</td>\n",
       "      <td>0.253222</td>\n",
       "      <td>0.825946</td>\n",
       "      <td>0.596589</td>\n",
       "      <td>...</td>\n",
       "      <td>0.723233</td>\n",
       "      <td>0.298058</td>\n",
       "      <td>0.729876</td>\n",
       "      <td>0.808066</td>\n",
       "      <td>0.364541</td>\n",
       "      <td>0.573677</td>\n",
       "      <td>0.562000</td>\n",
       "      <td>0.395796</td>\n",
       "      <td>0.337659</td>\n",
       "      <td>0</td>\n",
       "    </tr>\n",
       "    <tr>\n",
       "      <th>2</th>\n",
       "      <td>0.219104</td>\n",
       "      <td>0.855200</td>\n",
       "      <td>0.259224</td>\n",
       "      <td>0.888770</td>\n",
       "      <td>0.304351</td>\n",
       "      <td>0.882074</td>\n",
       "      <td>0.651708</td>\n",
       "      <td>0.341599</td>\n",
       "      <td>0.162460</td>\n",
       "      <td>0.513674</td>\n",
       "      <td>...</td>\n",
       "      <td>0.000644</td>\n",
       "      <td>0.964616</td>\n",
       "      <td>0.035270</td>\n",
       "      <td>0.217261</td>\n",
       "      <td>0.145543</td>\n",
       "      <td>0.792258</td>\n",
       "      <td>0.235331</td>\n",
       "      <td>0.403457</td>\n",
       "      <td>0.803910</td>\n",
       "      <td>0</td>\n",
       "    </tr>\n",
       "  </tbody>\n",
       "</table>\n",
       "<p>3 rows × 22 columns</p>\n",
       "</div>"
      ],
      "text/plain": [
       "   feature1  feature2  feature3  feature4  feature5  feature6  feature7  \\\n",
       "0  0.868641  0.506737  0.612936  0.938595  0.497599  0.666397  0.391871   \n",
       "1  0.187007  0.830566  0.507771  0.346876  0.413323  0.470311  0.948288   \n",
       "2  0.219104  0.855200  0.259224  0.888770  0.304351  0.882074  0.651708   \n",
       "\n",
       "   feature8  feature9  feature10   ...    feature13  feature14  feature15  \\\n",
       "0  0.727679  0.150861   0.772584   ...     0.214899   0.629554   0.242945   \n",
       "1  0.253222  0.825946   0.596589   ...     0.723233   0.298058   0.729876   \n",
       "2  0.341599  0.162460   0.513674   ...     0.000644   0.964616   0.035270   \n",
       "\n",
       "   feature16  feature17  feature18  feature19  feature20  feature21  target  \n",
       "0   0.073367   0.275067   0.445347   0.508649   0.230881   0.594809       1  \n",
       "1   0.808066   0.364541   0.573677   0.562000   0.395796   0.337659       0  \n",
       "2   0.217261   0.145543   0.792258   0.235331   0.403457   0.803910       0  \n",
       "\n",
       "[3 rows x 22 columns]"
      ]
     },
     "execution_count": 3,
     "metadata": {},
     "output_type": "execute_result"
    }
   ],
   "source": [
    "df = pd.read_csv('C:\\\\Users\\\\123\\\\Documents\\\\Python\\\\Numerai\\\\17062016\\\\numerai_training_data.csv')\n",
    "df[:3]"
   ]
  },
  {
   "cell_type": "code",
   "execution_count": 4,
   "metadata": {
    "collapsed": false
   },
   "outputs": [
    {
     "data": {
      "text/plain": [
       "(96320, 22)"
      ]
     },
     "execution_count": 4,
     "metadata": {},
     "output_type": "execute_result"
    }
   ],
   "source": [
    "df.shape"
   ]
  },
  {
   "cell_type": "code",
   "execution_count": 5,
   "metadata": {
    "collapsed": false
   },
   "outputs": [],
   "source": [
    "x = df.ix[:,:-1]\n",
    "y = df.ix[:,-1]\n",
    "x_train, x_test, y_train, y_test = train_test_split(x, y, test_size=0.33, random_state=42)"
   ]
  },
  {
   "cell_type": "code",
   "execution_count": 27,
   "metadata": {
    "collapsed": false,
    "scrolled": true
   },
   "outputs": [
    {
     "name": "stdout",
     "output_type": "stream",
     "text": [
      "Logloss: 0.6915\n"
     ]
    }
   ],
   "source": [
    "from sklearn.ensemble import RandomForestClassifier\n",
    "from sklearn.linear_model import LogisticRegression\n",
    "\n",
    "# clf = RandomForestClassifier(n_estimators=450,max_depth=9,min_samples_split=12)\n",
    "clf = LogisticRegression()\n",
    "clf_mod = clf.fit(x_train,y_train)\n",
    "y_pred = [a[1] for a in \n",
    "          clf_mod.predict_proba(x_test)]\n",
    "\n",
    "lg = log_loss(y_test,y_pred)\n",
    "print(\"Logloss: %0.4f\" % (lg))"
   ]
  },
  {
   "cell_type": "code",
   "execution_count": 11,
   "metadata": {
    "collapsed": false,
    "scrolled": true
   },
   "outputs": [
    {
     "name": "stdout",
     "output_type": "stream",
     "text": [
      "Logloss: 16.6579\n"
     ]
    }
   ],
   "source": [
    "from sklearn.ensemble import RandomForestClassifier\n",
    "from sklearn.linear_model import LogisticRegression\n",
    "\n",
    "rf = RandomForestClassifier(n_estimators=450,max_depth=20,min_samples_split=12)\n",
    "# clf = LogisticRegression()\n",
    "rf_mod = rf.fit(x_train,y_train)"
   ]
  },
  {
   "cell_type": "code",
   "execution_count": 33,
   "metadata": {
    "collapsed": false
   },
   "outputs": [
    {
     "name": "stdout",
     "output_type": "stream",
     "text": [
      "Logloss: 0.6929\n"
     ]
    }
   ],
   "source": [
    "y_pred = [a[1] for a in \n",
    "          rf_mod.predict_proba(x_test)]\n",
    "lg = log_loss(y_test,y_pred)\n",
    "print(\"Logloss: %0.4f\" % (lg))"
   ]
  },
  {
   "cell_type": "code",
   "execution_count": null,
   "metadata": {
    "collapsed": false
   },
   "outputs": [],
   "source": [
    "from sklearn.linear_model import LogisticRegression\n",
    "from sklearn.preprocessing import PolynomialFeatures\n",
    "from sklearn.preprocessing import MinMaxScaler\n",
    "from sklearn.pipeline import make_pipeline\n",
    "\n",
    "model = make_pipeline(PolynomialFeatures(3), MinMaxScaler(),LogisticRegression())\n",
    "model.fit(x_train,y_train)\n",
    "y_pred = [a[1] for a in \n",
    "          model.predict_proba(x_test)]\n",
    "\n",
    "lg = log_loss(y_test,y_pred)\n",
    "print(\"Logloss: %0.5f\" % (lg))"
   ]
  },
  {
   "cell_type": "code",
   "execution_count": 14,
   "metadata": {
    "collapsed": false
   },
   "outputs": [
    {
     "data": {
      "image/png": "[encoded data removed]",
      "text/plain": [
       "<matplotlib.figure.Figure at 0x29a00ae9550>"
      ]
     },
     "metadata": {},
     "output_type": "display_data"
    }
   ],
   "source": [
    "#plot graf in the same window :\n",
    "%matplotlib inline \n",
    "\n",
    "from sklearn.metrics import roc_curve, auc\n",
    "import matplotlib.pyplot as plt\n",
    "\n",
    "false_positive_rate, true_positive_rate, thresholds = roc_curve(y_test,y_pred)\n",
    "roc_auc = auc(false_positive_rate, true_positive_rate)\n",
    "\n",
    "y_pred2 = [a[1] for a in \n",
    "          model.predict_proba(x_train)]\n",
    "false_positive_rate2, true_positive_rate2, thresholds2 = roc_curve(y_train,y_pred2)\n",
    "roc_auc2 = auc(false_positive_rate, true_positive_rate)\n",
    "\n",
    "plt.title('LogLoss =  %0.5f' % (lg))\n",
    "plt.plot(false_positive_rate, true_positive_rate, 'b',\n",
    "    label='AUC = %0.5f'% roc_auc)\n",
    "plt.plot(false_positive_rate2, true_positive_rate2, 'b',\n",
    "    label='AUC = %0.5f'% roc_auc2)\n",
    "plt.legend(loc='lower right')\n",
    "plt.plot([0,1],[0,1],'r--')\n",
    "plt.xlim([-0.1,1.2])\n",
    "plt.ylim([-0.1,1.2])\n",
    "plt.ylabel('True Positive Rate')\n",
    "plt.xlabel('False Positive Rate')\n",
    "plt.show()"
   ]
  },
  {
   "cell_type": "code",
   "execution_count": 10,
   "metadata": {
    "collapsed": false
   },
   "outputs": [
    {
     "data": {
      "text/html": [
       "<div>\n",
       "<table border=\"1\" class=\"dataframe\">\n",
       "  <thead>\n",
       "    <tr style=\"text-align: right;\">\n",
       "      <th></th>\n",
       "      <th>t_id</th>\n",
       "      <th>probability</th>\n",
       "    </tr>\n",
       "  </thead>\n",
       "  <tbody>\n",
       "    <tr>\n",
       "      <th>0</th>\n",
       "      <td>19778</td>\n",
       "      <td>0.503979</td>\n",
       "    </tr>\n",
       "    <tr>\n",
       "      <th>1</th>\n",
       "      <td>21465</td>\n",
       "      <td>0.528993</td>\n",
       "    </tr>\n",
       "    <tr>\n",
       "      <th>2</th>\n",
       "      <td>25493</td>\n",
       "      <td>0.572831</td>\n",
       "    </tr>\n",
       "  </tbody>\n",
       "</table>\n",
       "</div>"
      ],
      "text/plain": [
       "    t_id  probability\n",
       "0  19778     0.503979\n",
       "1  21465     0.528993\n",
       "2  25493     0.572831"
      ]
     },
     "execution_count": 10,
     "metadata": {},
     "output_type": "execute_result"
    }
   ],
   "source": [
    "df_t = pd.read_csv('C:\\\\Users\\\\123\\\\Documents\\\\Python\\\\Numerai\\\\17062016\\\\numerai_tournament_data.csv')\n",
    "pred = pd.DataFrame(df_t.t_id)\n",
    "yt_pred = model.predict_proba(df_t.drop('t_id',axis=1))\n",
    "pred['probability'] = [a[1] for a in yt_pred]\n",
    "pred[:3]"
   ]
  },
  {
   "cell_type": "code",
   "execution_count": 11,
   "metadata": {
    "collapsed": false
   },
   "outputs": [],
   "source": [
    "pred.to_csv('C:\\\\Users\\\\123\\\\Documents\\\\Python\\\\Numerai\\\\17062016\\\\test.csv',index=False)"
   ]
  }
 ],
 "metadata": {
  "kernelspec": {
   "display_name": "Python 3",
   "language": "python",
   "name": "python3"
  },
  "language_info": {
   "codemirror_mode": {
    "name": "ipython",
    "version": 3
   },
   "file_extension": ".py",
   "mimetype": "text/x-python",
   "name": "python",
   "nbconvert_exporter": "python",
   "pygments_lexer": "ipython3",
   "version": "3.5.1"
  }
 },
 "nbformat": 4,
 "nbformat_minor": 0
}
